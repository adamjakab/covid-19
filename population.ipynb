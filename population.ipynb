{
 "cells": [
  {
   "cell_type": "markdown",
   "metadata": {
    "collapsed": true,
    "pycharm": {
     "name": "#%% md\n"
    }
   },
   "source": [
    "# Population Figures"
   ]
  },
  {
   "cell_type": "markdown",
   "metadata": {},
   "source": [
    "## Initial setup"
   ]
  },
  {
   "cell_type": "code",
   "execution_count": 1,
   "metadata": {
    "pycharm": {
     "is_executing": false,
     "name": "#%%\n"
    }
   },
   "outputs": [],
   "source": [
    "from urllib.request import urlopen\n",
    "import json\n",
    "import pandas as pd\n",
    "import matplotlib.pyplot as plt\n",
    "import seaborn as sns\n",
    "import numpy as np\n",
    "import math\n",
    "\n",
    "url_tpl_wb = \"https://api.worldbank.org/v2/en/country/{cc}/indicator/{ic}?format=json&per_page=100\"\n",
    "\n",
    "def get_df_for_wb_indicator(country_code, indicator_code):\n",
    "    response = urlopen(url_tpl_wb.format(cc=country_code, ic=indicator_code))\n",
    "    data = json.loads(response.read())\n",
    "    # df2 = pd.DataFrame(np.array([[1, 2, 3], [4, 5, 6], [7, 8, 9]]), columns=['a', 'b', 'c'])\n",
    "    cols = ['country', 'year', indicator_code]\n",
    "    rows = []\n",
    "    for item in data[1]:\n",
    "        rows.append([item[\"countryiso3code\"], item[\"date\"], item[\"value\"]])\n",
    "    wbdf = pd.DataFrame(np.array(rows), columns=cols)\n",
    "    return wbdf\n"
   ]
  },
  {
   "cell_type": "code",
   "execution_count": null,
   "metadata": {
    "pycharm": {
     "is_executing": false
    }
   },
   "outputs": [],
   "source": [
    "# Get total population(SP.POP.TOTL)\n",
    "pop = get_df_for_wb_indicator('ITA', 'SP.POP.TOTL')\n",
    "pop = pop.append(get_df_for_wb_indicator('FRA', 'SP.POP.TOTL'))\n",
    "pop = pop.append(get_df_for_wb_indicator('DEU', 'SP.POP.TOTL'))\n",
    "pop = pop.append(get_df_for_wb_indicator('HUN', 'SP.POP.TOTL'))\n",
    "pop = pop.append(get_df_for_wb_indicator('DNK', 'SP.POP.TOTL'))\n",
    "pop[\"CY\"] = pop[\"country\"] + \"-\" + pop[\"year\"]\n",
    "pop.set_index('CY', inplace = True)\n",
    "\n",
    "# Crude Death Rate(SP.DYN.CDRT.IN) over 1,000\n",
    "cdr = get_df_for_wb_indicator('ITA', 'SP.DYN.CDRT.IN')\n",
    "cdr = cdr.append(get_df_for_wb_indicator('FRA', 'SP.DYN.CDRT.IN'))\n",
    "cdr = cdr.append(get_df_for_wb_indicator('DEU', 'SP.DYN.CDRT.IN'))\n",
    "cdr = cdr.append(get_df_for_wb_indicator('HUN', 'SP.DYN.CDRT.IN'))\n",
    "cdr = cdr.append(get_df_for_wb_indicator('DNK', 'SP.DYN.CDRT.IN'))\n",
    "cdr[\"CY\"] = cdr[\"country\"] + \"-\" + cdr[\"year\"]\n",
    "cdr.set_index('CY', inplace = True)\n",
    "cdr.drop(columns=['country', 'year'], axis=1, inplace=True)\n",
    "\n",
    "# Crude Birth Rate(SP.DYN.CBRT.IN) over 1,000\n",
    "cbr = get_df_for_wb_indicator('ITA', 'SP.DYN.CBRT.IN')\n",
    "cbr = cbr.append(get_df_for_wb_indicator('FRA', 'SP.DYN.CBRT.IN'))\n",
    "cbr = cbr.append(get_df_for_wb_indicator('DEU', 'SP.DYN.CBRT.IN'))\n",
    "cbr = cbr.append(get_df_for_wb_indicator('HUN', 'SP.DYN.CBRT.IN'))\n",
    "cbr = cbr.append(get_df_for_wb_indicator('DNK', 'SP.DYN.CBRT.IN'))\n",
    "cbr[\"CY\"] = cbr[\"country\"] + \"-\" + cbr[\"year\"]\n",
    "cbr.set_index('CY', inplace = True)\n",
    "cbr.drop(columns=['country', 'year'], axis=1, inplace=True)\n",
    "\n",
    "\n",
    "jd = pop.join(cdr, how = 'inner', on='CY', lsuffix = '_left')\n",
    "jd = jd.join(cbr, how = 'inner', on='CY', lsuffix = '_left')\n"
   ]
  },
  {
   "cell_type": "code",
   "execution_count": null,
   "metadata": {
    "pycharm": {
     "is_executing": false
    }
   },
   "outputs": [],
   "source": [
    "jd.head()"
   ]
  },
  {
   "cell_type": "markdown",
   "metadata": {},
   "source": [
    "## Data Preparation / Pre-processing - (Patient)"
   ]
  },
  {
   "cell_type": "code",
   "execution_count": null,
   "metadata": {
    "pycharm": {
     "is_executing": false,
     "name": "#%%\n"
    }
   },
   "outputs": [],
   "source": [
    "jd['year'] = pd.to_numeric(jd[\"year\"], errors='coerce')\n",
    "jd['SP.POP.TOTL'] = pd.to_numeric(jd[\"SP.POP.TOTL\"], errors='coerce')\n",
    "jd['SP.DYN.CDRT.IN'] = pd.to_numeric(jd[\"SP.DYN.CDRT.IN\"], errors='coerce')\n",
    "jd['SP.DYN.CBRT.IN'] = pd.to_numeric(jd[\"SP.DYN.CBRT.IN\"], errors='coerce')\n",
    "\n",
    "jd[\"CBRT-CDRT\"] = jd[\"SP.DYN.CBRT.IN\"] - jd[\"SP.DYN.CDRT.IN\"]\n",
    "\n",
    "#patient.loc[:, patient.columns.isin(['sex','birth_year','age','age_group'])]\n",
    "jd.info()"
   ]
  },
  {
   "cell_type": "code",
   "execution_count": null,
   "metadata": {
    "pycharm": {
     "is_executing": false,
     "name": "#%%\n"
    }
   },
   "outputs": [],
   "source": [
    "# Plot population\n",
    "sns.lineplot(x=\"year\", y=\"SP.POP.TOTL\", hue=\"country\", data=jd)\n",
    "\n",
    "\n"
   ]
  },
  {
   "cell_type": "code",
   "execution_count": null,
   "metadata": {
    "pycharm": {
     "is_executing": false,
     "name": "#%%\n"
    }
   },
   "outputs": [],
   "source": [
    "# Plot crude birth/death rates\n",
    "#sns.lineplot(x=\"year\", y=\"SP.DYN.CDRT.IN\", hue=\"country\", data=jd)\n",
    "#plt.show()\n",
    "\n",
    "#sns.lineplot(x=\"year\", y=\"SP.DYN.CBRT.IN\", hue=\"country\", data=jd)\n",
    "#plt.show()\n",
    "\n",
    "g = sns.FacetGrid(data=jd, col=\"country\")\n",
    "g.map(plt.plot, \"year\", \"SP.DYN.CDRT.IN\", marker=\"\")\n",
    "\n",
    "g = sns.FacetGrid(data=jd, col=\"country\")\n",
    "g.map(plt.plot, \"year\", \"SP.DYN.CBRT.IN\", marker=\"\")\n",
    "\n",
    "g = sns.FacetGrid(data=jd, col=\"country\")\n",
    "g.map(plt.plot, \"year\", \"CBRT-CDRT\", marker=\"\")\n",
    "\n"
   ]
  }
 ],
 "metadata": {
  "kernelspec": {
   "display_name": "Python 3",
   "language": "python",
   "name": "python3"
  },
  "language_info": {
   "codemirror_mode": {
    "name": "ipython",
    "version": 3
   },
   "file_extension": ".py",
   "mimetype": "text/x-python",
   "name": "python",
   "nbconvert_exporter": "python",
   "pygments_lexer": "ipython3",
   "version": "3.7.6"
  },
  "pycharm": {
   "stem_cell": {
    "cell_type": "raw",
    "source": [],
    "metadata": {
     "collapsed": false
    }
   }
  }
 },
 "nbformat": 4,
 "nbformat_minor": 1
}